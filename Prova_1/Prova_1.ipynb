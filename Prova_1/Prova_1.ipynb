{
  "nbformat": 4,
  "nbformat_minor": 0,
  "metadata": {
    "colab": {
      "provenance": [],
      "authorship_tag": "ABX9TyNNxa/ya+Qh3mTUgnwMYTJG",
      "include_colab_link": true
    },
    "kernelspec": {
      "name": "python3",
      "display_name": "Python 3"
    },
    "language_info": {
      "name": "python"
    }
  },
  "cells": [
    {
      "cell_type": "markdown",
      "metadata": {
        "id": "view-in-github",
        "colab_type": "text"
      },
      "source": [
        "<a href=\"https://colab.research.google.com/github/bhnunes/FT043/blob/main/Prova_1/Prova_1.ipynb\" target=\"_parent\"><img src=\"https://colab.research.google.com/assets/colab-badge.svg\" alt=\"Open In Colab\"/></a>"
      ]
    },
    {
      "cell_type": "markdown",
      "source": [
        "Bruno Henrique Nunes\n",
        "RA: **197225**"
      ],
      "metadata": {
        "id": "stbC_H9cahYS"
      }
    },
    {
      "cell_type": "markdown",
      "source": [
        "3. Considere os dados dos arquivos banco_dados_salarios.xlsx. Tais dados representam os salários mensais (em kR$) de 20000\n",
        "pessoas de uma região de uma grande cidade. Cada entrada da tabela, que corresponde a uma pessoa, também apresenta o gênero\n",
        "da pessoa. Diante disso, realize o seguinte procedimento."
      ],
      "metadata": {
        "id": "zGm9MsjZSk44"
      }
    },
    {
      "cell_type": "markdown",
      "source": [
        "(a) Calcule a média salarial desta população."
      ],
      "metadata": {
        "id": "Cj833sZoSoBt"
      }
    },
    {
      "cell_type": "code",
      "execution_count": 41,
      "metadata": {
        "colab": {
          "base_uri": "https://localhost:8080/",
          "height": 206
        },
        "id": "d_VJ2jZpSWsE",
        "outputId": "85a47dcd-0be7-4d64-cb2b-38a6f1c6cdd9"
      },
      "outputs": [
        {
          "output_type": "execute_result",
          "data": {
            "text/plain": [
              "   salário (kR$)  gênero\n",
              "0       9.702955   homem\n",
              "1       8.043529   homem\n",
              "2       5.908272   homem\n",
              "3       5.346082  mulher\n",
              "4       8.443862   homem"
            ],
            "text/html": [
              "\n",
              "  <div id=\"df-173ff303-ffcc-405f-a14c-f8083bffcddd\" class=\"colab-df-container\">\n",
              "    <div>\n",
              "<style scoped>\n",
              "    .dataframe tbody tr th:only-of-type {\n",
              "        vertical-align: middle;\n",
              "    }\n",
              "\n",
              "    .dataframe tbody tr th {\n",
              "        vertical-align: top;\n",
              "    }\n",
              "\n",
              "    .dataframe thead th {\n",
              "        text-align: right;\n",
              "    }\n",
              "</style>\n",
              "<table border=\"1\" class=\"dataframe\">\n",
              "  <thead>\n",
              "    <tr style=\"text-align: right;\">\n",
              "      <th></th>\n",
              "      <th>salário (kR$)</th>\n",
              "      <th>gênero</th>\n",
              "    </tr>\n",
              "  </thead>\n",
              "  <tbody>\n",
              "    <tr>\n",
              "      <th>0</th>\n",
              "      <td>9.702955</td>\n",
              "      <td>homem</td>\n",
              "    </tr>\n",
              "    <tr>\n",
              "      <th>1</th>\n",
              "      <td>8.043529</td>\n",
              "      <td>homem</td>\n",
              "    </tr>\n",
              "    <tr>\n",
              "      <th>2</th>\n",
              "      <td>5.908272</td>\n",
              "      <td>homem</td>\n",
              "    </tr>\n",
              "    <tr>\n",
              "      <th>3</th>\n",
              "      <td>5.346082</td>\n",
              "      <td>mulher</td>\n",
              "    </tr>\n",
              "    <tr>\n",
              "      <th>4</th>\n",
              "      <td>8.443862</td>\n",
              "      <td>homem</td>\n",
              "    </tr>\n",
              "  </tbody>\n",
              "</table>\n",
              "</div>\n",
              "    <div class=\"colab-df-buttons\">\n",
              "\n",
              "  <div class=\"colab-df-container\">\n",
              "    <button class=\"colab-df-convert\" onclick=\"convertToInteractive('df-173ff303-ffcc-405f-a14c-f8083bffcddd')\"\n",
              "            title=\"Convert this dataframe to an interactive table.\"\n",
              "            style=\"display:none;\">\n",
              "\n",
              "  <svg xmlns=\"http://www.w3.org/2000/svg\" height=\"24px\" viewBox=\"0 -960 960 960\">\n",
              "    <path d=\"M120-120v-720h720v720H120Zm60-500h600v-160H180v160Zm220 220h160v-160H400v160Zm0 220h160v-160H400v160ZM180-400h160v-160H180v160Zm440 0h160v-160H620v160ZM180-180h160v-160H180v160Zm440 0h160v-160H620v160Z\"/>\n",
              "  </svg>\n",
              "    </button>\n",
              "\n",
              "  <style>\n",
              "    .colab-df-container {\n",
              "      display:flex;\n",
              "      gap: 12px;\n",
              "    }\n",
              "\n",
              "    .colab-df-convert {\n",
              "      background-color: #E8F0FE;\n",
              "      border: none;\n",
              "      border-radius: 50%;\n",
              "      cursor: pointer;\n",
              "      display: none;\n",
              "      fill: #1967D2;\n",
              "      height: 32px;\n",
              "      padding: 0 0 0 0;\n",
              "      width: 32px;\n",
              "    }\n",
              "\n",
              "    .colab-df-convert:hover {\n",
              "      background-color: #E2EBFA;\n",
              "      box-shadow: 0px 1px 2px rgba(60, 64, 67, 0.3), 0px 1px 3px 1px rgba(60, 64, 67, 0.15);\n",
              "      fill: #174EA6;\n",
              "    }\n",
              "\n",
              "    .colab-df-buttons div {\n",
              "      margin-bottom: 4px;\n",
              "    }\n",
              "\n",
              "    [theme=dark] .colab-df-convert {\n",
              "      background-color: #3B4455;\n",
              "      fill: #D2E3FC;\n",
              "    }\n",
              "\n",
              "    [theme=dark] .colab-df-convert:hover {\n",
              "      background-color: #434B5C;\n",
              "      box-shadow: 0px 1px 3px 1px rgba(0, 0, 0, 0.15);\n",
              "      filter: drop-shadow(0px 1px 2px rgba(0, 0, 0, 0.3));\n",
              "      fill: #FFFFFF;\n",
              "    }\n",
              "  </style>\n",
              "\n",
              "    <script>\n",
              "      const buttonEl =\n",
              "        document.querySelector('#df-173ff303-ffcc-405f-a14c-f8083bffcddd button.colab-df-convert');\n",
              "      buttonEl.style.display =\n",
              "        google.colab.kernel.accessAllowed ? 'block' : 'none';\n",
              "\n",
              "      async function convertToInteractive(key) {\n",
              "        const element = document.querySelector('#df-173ff303-ffcc-405f-a14c-f8083bffcddd');\n",
              "        const dataTable =\n",
              "          await google.colab.kernel.invokeFunction('convertToInteractive',\n",
              "                                                    [key], {});\n",
              "        if (!dataTable) return;\n",
              "\n",
              "        const docLinkHtml = 'Like what you see? Visit the ' +\n",
              "          '<a target=\"_blank\" href=https://colab.research.google.com/notebooks/data_table.ipynb>data table notebook</a>'\n",
              "          + ' to learn more about interactive tables.';\n",
              "        element.innerHTML = '';\n",
              "        dataTable['output_type'] = 'display_data';\n",
              "        await google.colab.output.renderOutput(dataTable, element);\n",
              "        const docLink = document.createElement('div');\n",
              "        docLink.innerHTML = docLinkHtml;\n",
              "        element.appendChild(docLink);\n",
              "      }\n",
              "    </script>\n",
              "  </div>\n",
              "\n",
              "\n",
              "<div id=\"df-0af2c215-58ae-4904-b763-b3fe5ae47d81\">\n",
              "  <button class=\"colab-df-quickchart\" onclick=\"quickchart('df-0af2c215-58ae-4904-b763-b3fe5ae47d81')\"\n",
              "            title=\"Suggest charts\"\n",
              "            style=\"display:none;\">\n",
              "\n",
              "<svg xmlns=\"http://www.w3.org/2000/svg\" height=\"24px\"viewBox=\"0 0 24 24\"\n",
              "     width=\"24px\">\n",
              "    <g>\n",
              "        <path d=\"M19 3H5c-1.1 0-2 .9-2 2v14c0 1.1.9 2 2 2h14c1.1 0 2-.9 2-2V5c0-1.1-.9-2-2-2zM9 17H7v-7h2v7zm4 0h-2V7h2v10zm4 0h-2v-4h2v4z\"/>\n",
              "    </g>\n",
              "</svg>\n",
              "  </button>\n",
              "\n",
              "<style>\n",
              "  .colab-df-quickchart {\n",
              "      --bg-color: #E8F0FE;\n",
              "      --fill-color: #1967D2;\n",
              "      --hover-bg-color: #E2EBFA;\n",
              "      --hover-fill-color: #174EA6;\n",
              "      --disabled-fill-color: #AAA;\n",
              "      --disabled-bg-color: #DDD;\n",
              "  }\n",
              "\n",
              "  [theme=dark] .colab-df-quickchart {\n",
              "      --bg-color: #3B4455;\n",
              "      --fill-color: #D2E3FC;\n",
              "      --hover-bg-color: #434B5C;\n",
              "      --hover-fill-color: #FFFFFF;\n",
              "      --disabled-bg-color: #3B4455;\n",
              "      --disabled-fill-color: #666;\n",
              "  }\n",
              "\n",
              "  .colab-df-quickchart {\n",
              "    background-color: var(--bg-color);\n",
              "    border: none;\n",
              "    border-radius: 50%;\n",
              "    cursor: pointer;\n",
              "    display: none;\n",
              "    fill: var(--fill-color);\n",
              "    height: 32px;\n",
              "    padding: 0;\n",
              "    width: 32px;\n",
              "  }\n",
              "\n",
              "  .colab-df-quickchart:hover {\n",
              "    background-color: var(--hover-bg-color);\n",
              "    box-shadow: 0 1px 2px rgba(60, 64, 67, 0.3), 0 1px 3px 1px rgba(60, 64, 67, 0.15);\n",
              "    fill: var(--button-hover-fill-color);\n",
              "  }\n",
              "\n",
              "  .colab-df-quickchart-complete:disabled,\n",
              "  .colab-df-quickchart-complete:disabled:hover {\n",
              "    background-color: var(--disabled-bg-color);\n",
              "    fill: var(--disabled-fill-color);\n",
              "    box-shadow: none;\n",
              "  }\n",
              "\n",
              "  .colab-df-spinner {\n",
              "    border: 2px solid var(--fill-color);\n",
              "    border-color: transparent;\n",
              "    border-bottom-color: var(--fill-color);\n",
              "    animation:\n",
              "      spin 1s steps(1) infinite;\n",
              "  }\n",
              "\n",
              "  @keyframes spin {\n",
              "    0% {\n",
              "      border-color: transparent;\n",
              "      border-bottom-color: var(--fill-color);\n",
              "      border-left-color: var(--fill-color);\n",
              "    }\n",
              "    20% {\n",
              "      border-color: transparent;\n",
              "      border-left-color: var(--fill-color);\n",
              "      border-top-color: var(--fill-color);\n",
              "    }\n",
              "    30% {\n",
              "      border-color: transparent;\n",
              "      border-left-color: var(--fill-color);\n",
              "      border-top-color: var(--fill-color);\n",
              "      border-right-color: var(--fill-color);\n",
              "    }\n",
              "    40% {\n",
              "      border-color: transparent;\n",
              "      border-right-color: var(--fill-color);\n",
              "      border-top-color: var(--fill-color);\n",
              "    }\n",
              "    60% {\n",
              "      border-color: transparent;\n",
              "      border-right-color: var(--fill-color);\n",
              "    }\n",
              "    80% {\n",
              "      border-color: transparent;\n",
              "      border-right-color: var(--fill-color);\n",
              "      border-bottom-color: var(--fill-color);\n",
              "    }\n",
              "    90% {\n",
              "      border-color: transparent;\n",
              "      border-bottom-color: var(--fill-color);\n",
              "    }\n",
              "  }\n",
              "</style>\n",
              "\n",
              "  <script>\n",
              "    async function quickchart(key) {\n",
              "      const quickchartButtonEl =\n",
              "        document.querySelector('#' + key + ' button');\n",
              "      quickchartButtonEl.disabled = true;  // To prevent multiple clicks.\n",
              "      quickchartButtonEl.classList.add('colab-df-spinner');\n",
              "      try {\n",
              "        const charts = await google.colab.kernel.invokeFunction(\n",
              "            'suggestCharts', [key], {});\n",
              "      } catch (error) {\n",
              "        console.error('Error during call to suggestCharts:', error);\n",
              "      }\n",
              "      quickchartButtonEl.classList.remove('colab-df-spinner');\n",
              "      quickchartButtonEl.classList.add('colab-df-quickchart-complete');\n",
              "    }\n",
              "    (() => {\n",
              "      let quickchartButtonEl =\n",
              "        document.querySelector('#df-0af2c215-58ae-4904-b763-b3fe5ae47d81 button');\n",
              "      quickchartButtonEl.style.display =\n",
              "        google.colab.kernel.accessAllowed ? 'block' : 'none';\n",
              "    })();\n",
              "  </script>\n",
              "</div>\n",
              "\n",
              "    </div>\n",
              "  </div>\n"
            ],
            "application/vnd.google.colaboratory.intrinsic+json": {
              "type": "dataframe",
              "variable_name": "df",
              "summary": "{\n  \"name\": \"df\",\n  \"rows\": 20000,\n  \"fields\": [\n    {\n      \"column\": \"sal\\u00e1rio (kR$)\",\n      \"properties\": {\n        \"dtype\": \"number\",\n        \"std\": 2.492539792752908,\n        \"min\": -1.972839732,\n        \"max\": 15.6346056,\n        \"num_unique_values\": 20000,\n        \"samples\": [\n          13.38569429,\n          10.10661381,\n          9.609864988\n        ],\n        \"semantic_type\": \"\",\n        \"description\": \"\"\n      }\n    },\n    {\n      \"column\": \"g\\u00eanero\",\n      \"properties\": {\n        \"dtype\": \"category\",\n        \"num_unique_values\": 2,\n        \"samples\": [\n          \"mulher\",\n          \"homem\"\n        ],\n        \"semantic_type\": \"\",\n        \"description\": \"\"\n      }\n    }\n  ]\n}"
            }
          },
          "metadata": {},
          "execution_count": 41
        }
      ],
      "source": [
        "import pandas as pd\n",
        "import numpy as np\n",
        "\n",
        "URL='https://raw.githubusercontent.com/bhnunes/FT043/refs/heads/main/Prova_1/banco_dados_salarios.csv'\n",
        "df = pd.read_csv(URL,delimiter=';')\n",
        "df.head()"
      ]
    },
    {
      "cell_type": "code",
      "source": [
        "media_salarial = df['salário (kR$)'].mean()\n",
        "print(f\"A média salarial da população é: {media_salarial:.2f} kR$\")\n"
      ],
      "metadata": {
        "colab": {
          "base_uri": "https://localhost:8080/"
        },
        "id": "E7yfjbwTUWxS",
        "outputId": "08a7bd71-f777-449a-f987-dd91e45a007c"
      },
      "execution_count": 42,
      "outputs": [
        {
          "output_type": "stream",
          "name": "stdout",
          "text": [
            "A média salarial da população é: 7.49 kR$\n"
          ]
        }
      ]
    },
    {
      "cell_type": "markdown",
      "source": [
        "(b) Obtenha os histogramas e os box-plots para cada um dos grupos do banco de dados."
      ],
      "metadata": {
        "id": "watA7qZqW--i"
      }
    },
    {
      "cell_type": "code",
      "source": [
        "import matplotlib.pyplot as plt\n",
        "\n",
        "# Histogramas\n",
        "plt.figure(figsize=(12, 5))\n",
        "\n",
        "plt.subplot(1, 2, 1)\n",
        "plt.hist(df[df['gênero'] == 'homem']['salário (kR$)'], bins=20, color='blue', alpha=0.7)\n",
        "plt.title('Histograma dos Salários - Homens')\n",
        "plt.xlabel('Salário (kR$)')\n",
        "plt.ylabel('Frequência')\n",
        "\n",
        "plt.subplot(1, 2, 2)\n",
        "plt.hist(df[df['gênero'] == 'mulher']['salário (kR$)'], bins=20, color='red', alpha=0.7)\n",
        "plt.title('Histograma dos Salários - Mulheres')\n",
        "plt.xlabel('Salário (kR$)')\n",
        "plt.ylabel('Frequência')\n",
        "\n",
        "plt.tight_layout()\n",
        "plt.show()\n",
        "\n",
        "\n",
        "# Box-plots\n",
        "plt.figure(figsize=(10, 5))\n",
        "plt.boxplot([df[df['gênero'] == 'homem']['salário (kR$)'], df[df['gênero'] == 'mulher']['salário (kR$)']],\n",
        "            labels=['Homens', 'Mulheres'])\n",
        "plt.title('Box-plot dos Salários por Gênero')\n",
        "plt.ylabel('Salário (kR$)')\n",
        "plt.show()\n"
      ],
      "metadata": {
        "colab": {
          "base_uri": "https://localhost:8080/",
          "height": 958
        },
        "id": "C7QAPzjgXEFv",
        "outputId": "56cfa7c4-14f7-42f1-9b61-d82436f6f718"
      },
      "execution_count": 43,
      "outputs": [
        {
          "output_type": "display_data",
          "data": {
            "text/plain": [
              "<Figure size 1200x500 with 2 Axes>"
            ],
            "image/png": "[encoded data removed]"
          },
          "metadata": {}
        },
        {
          "output_type": "display_data",
          "data": {
            "text/plain": [
              "<Figure size 1000x500 with 1 Axes>"
            ],
            "image/png": "[encoded data removed]"
          },
          "metadata": {}
        }
      ]
    },
    {
      "cell_type": "markdown",
      "source": [
        "Podemos ver que as distribuições por grupos seguem uma distribuição próxima da normal, porém, pelos boxplots, vemos também a presença de muitos outliers, mas de uma distribuição razoavelmente centrada."
      ],
      "metadata": {
        "id": "9zwKiBwyZNXM"
      }
    },
    {
      "cell_type": "code",
      "source": [
        "desvio_populacional=df['salário (kR$)'].std()\n",
        "print(f\"O desvio padrão populacional dos salários é: {desvio_populacional:.5f} kR$\")\n"
      ],
      "metadata": {
        "colab": {
          "base_uri": "https://localhost:8080/"
        },
        "id": "aPmUT5_gZuiu",
        "outputId": "05be175d-d54d-4641-abf0-31e97a059d8d"
      },
      "execution_count": 44,
      "outputs": [
        {
          "output_type": "stream",
          "name": "stdout",
          "text": [
            "O desvio padrão populacional dos salários é: 2.49254 kR$\n"
          ]
        }
      ]
    },
    {
      "cell_type": "markdown",
      "source": [
        "(c) Obtenha um intervalo de confiança de 92% considerando n = 200 amostras dessa população. Considere a situação na qual o\n",
        "desvio populacional é conhecido. Tal desvio pode ser calculado considerando todas as amostras da população (todas as\n",
        "entradas da planilha fornecida)."
      ],
      "metadata": {
        "id": "5BLpJFCBab_J"
      }
    },
    {
      "cell_type": "code",
      "source": [
        "from scipy.stats import norm\n",
        "\n",
        "n = 200\n",
        "nivel_confianca = 0.92\n",
        "alpha = 1 - nivel_confianca\n",
        "\n",
        "# Calcula a média amostral\n",
        "media_amostral = df['salário (kR$)'].sample(n).mean()\n",
        "\n",
        "# Calcula o erro padrão\n",
        "erro_padrao = desvio_populacional / (n**0.5)\n",
        "\n",
        "# Calcula o z-score para o nível de confiança desejado\n",
        "z_score = norm.ppf(1 - alpha / 2)\n",
        "\n",
        "# Calcula o intervalo de confiança\n",
        "margem_erro = z_score * erro_padrao\n",
        "intervalo_inferior = media_amostral - margem_erro\n",
        "intervalo_superior = media_amostral + margem_erro\n",
        "\n",
        "print(f\"Intervalo de confiança de 92% para a média salarial (n=200, desvio populacional conhecido):\")\n",
        "print(f\"({intervalo_inferior:.2f} kR$, {intervalo_superior:.2f} kR$)\")\n"
      ],
      "metadata": {
        "colab": {
          "base_uri": "https://localhost:8080/"
        },
        "id": "fL73EzcKaxKi",
        "outputId": "8585232a-c632-495a-efcf-901cffc03fc4"
      },
      "execution_count": 45,
      "outputs": [
        {
          "output_type": "stream",
          "name": "stdout",
          "text": [
            "Intervalo de confiança de 92% para a média salarial (n=200, desvio populacional conhecido):\n",
            "(7.36 kR$, 7.98 kR$)\n"
          ]
        }
      ]
    },
    {
      "cell_type": "markdown",
      "source": [
        "(d) Realize 5000 realizações (com sorteios diferentes) do item (c), ou seja, obtenha 5000 intervalos de confiança com as\n",
        "especificações do item (c). Discuta o resultado obtido à luz do valor da média populacional obtida no item (a). Em particular, calcule\n",
        "a proporção de vezes (nessas 5000 realizações) em que o intervalo obtido conteve a média populacional."
      ],
      "metadata": {
        "id": "bxYg8hQebhLI"
      }
    },
    {
      "cell_type": "code",
      "source": [
        "numero_realizacoes = 5000\n",
        "n = 200\n",
        "nivel_confianca = 0.92\n",
        "alpha = 1 - nivel_confianca\n",
        "\n",
        "contagem_intervalos_com_media = 0\n",
        "\n",
        "for _ in range(numero_realizacoes):\n",
        "    # Calcula a média amostral\n",
        "    media_amostral = df['salário (kR$)'].sample(n).mean()\n",
        "\n",
        "    # Calcula o erro padrão\n",
        "    erro_padrao = desvio_populacional / (n**0.5)\n",
        "\n",
        "    # Calcula o z-score para o nível de confiança desejado\n",
        "    z_score = norm.ppf(1 - alpha / 2)\n",
        "\n",
        "    # Calcula o intervalo de confiança\n",
        "    margem_erro = z_score * erro_padrao\n",
        "    intervalo_inferior = media_amostral - margem_erro\n",
        "    intervalo_superior = media_amostral + margem_erro\n",
        "\n",
        "    # Verifica se a média populacional está dentro do intervalo\n",
        "    if intervalo_inferior <= media_salarial <= intervalo_superior:\n",
        "        contagem_intervalos_com_media += 1\n",
        "\n",
        "\n",
        "proporcao_intervalos_com_media = contagem_intervalos_com_media / numero_realizacoes\n",
        "\n",
        "print(f\"Proporção de intervalos de confiança que contêm a média populacional: {proporcao_intervalos_com_media:.4f}\")\n"
      ],
      "metadata": {
        "colab": {
          "base_uri": "https://localhost:8080/"
        },
        "id": "msQ-Ep0LbowZ",
        "outputId": "1c07a730-2c8b-4d34-cfbe-7ac38e6267e8"
      },
      "execution_count": 46,
      "outputs": [
        {
          "output_type": "stream",
          "name": "stdout",
          "text": [
            "Proporção de intervalos de confiança que contêm a média populacional: 0.9242\n"
          ]
        }
      ]
    },
    {
      "cell_type": "markdown",
      "source": [
        "A proporção de intervalos de confiança que contêm a média populacional deve estar próxima do nível de confiança (92%).\n",
        "Isso significa que, em aproximadamente 92% das vezes, o intervalo de confiança calculado a partir de uma amostra de 200 indivíduos conterá a média populacional verdadeira.\n",
        "\n",
        "O resultado obtido é consistente com essa expectativa, demonstrando que o processo de construção de intervalos de confiança é eficaz para estimar a média populacional."
      ],
      "metadata": {
        "id": "0JF6FPo-zCSn"
      }
    },
    {
      "cell_type": "markdown",
      "source": [
        "(e) Realize o mesmo procedimento do item (d), porém apenas para as mulheres. Discuta o resultado obtido à luz do valor da média\n",
        "populacional obtida no item (a). Em particular, calcule a proporção de vezes (nessas 5000 realizações) em que o intervalo obtido\n",
        "conteve a média populacional. Discuta possíveis diferenças com relação ao item (d)."
      ],
      "metadata": {
        "id": "3XUQNKgsb3mh"
      }
    },
    {
      "cell_type": "code",
      "source": [
        "numero_realizacoes = 5000\n",
        "n = 200\n",
        "nivel_confianca = 0.92\n",
        "alpha = 1 - nivel_confianca\n",
        "\n",
        "contagem_intervalos_com_media = 0\n",
        "\n",
        "df_mulheres = df[df['gênero'] == 'mulher']\n",
        "desvio_populacional_mulheres = df_mulheres['salário (kR$)'].std()\n",
        "media_salarial_mulheres = df_mulheres['salário (kR$)'].mean()\n",
        "\n",
        "for _ in range(numero_realizacoes):\n",
        "    # Calcula a média amostral\n",
        "    media_amostral_mulheres = df_mulheres['salário (kR$)'].sample(n).mean()\n",
        "\n",
        "    # Calcula o erro padrão\n",
        "    erro_padrao_mulheres = desvio_populacional / (n**0.5)\n",
        "\n",
        "    # Calcula o z-score para o nível de confiança desejado\n",
        "    z_score = norm.ppf(1 - alpha / 2)\n",
        "\n",
        "    # Calcula o intervalo de confiança\n",
        "    margem_erro_mulheres = z_score * erro_padrao_mulheres\n",
        "    intervalo_inferior_mulheres = media_amostral_mulheres - margem_erro_mulheres\n",
        "    intervalo_superior_mulheres = media_amostral_mulheres + margem_erro_mulheres\n",
        "\n",
        "    # Verifica se a média populacional está dentro do intervalo\n",
        "    if intervalo_inferior_mulheres <= media_salarial <= intervalo_superior_mulheres:\n",
        "      contagem_intervalos_com_media += 1\n",
        "\n",
        "\n",
        "proporcao_intervalos_com_media_mulheres = contagem_intervalos_com_media / numero_realizacoes\n",
        "\n",
        "print(f\"Proporção de intervalos de confiança que contêm a média populacional (mulheres): {proporcao_intervalos_com_media_mulheres:.10f}\")\n"
      ],
      "metadata": {
        "colab": {
          "base_uri": "https://localhost:8080/"
        },
        "id": "XjoDX70bcAHW",
        "outputId": "cb95170e-49f5-421f-c705-0a30e35e48f6"
      },
      "execution_count": 47,
      "outputs": [
        {
          "output_type": "stream",
          "name": "stdout",
          "text": [
            "Proporção de intervalos de confiança que contêm a média populacional (mulheres): 0.0000000000\n"
          ]
        }
      ]
    },
    {
      "cell_type": "markdown",
      "source": [
        "O resultado obtido reflete algumas características do método utilizado para a estimação e da natureza das amostras.\n",
        "\n",
        "Com relação ao método, ao enviesarmos o experimento tomando apenas as mulheres, comprometemos a característica de experimento aleatório que rege a teoria do cálculo do intervalo de confiança: Como as amostras não são mais tomadas de forma aleatória dentro da população, não podemos mais garantir que existe uma probabilidade de 92% de encontrarmos a média populacional dentro do intervalo de confiança amostral, situação essa que não vemos no exercício d), onde tomamos amostras aleatórias para as simulações.\n",
        "\n",
        "Com relação a natureza das amostras, analisando os box-plots, podemos ver que existe uma grande diferença salarial entre homens e mulheres. Esse fator é responsável pela distorção em valores.\n",
        "\n"
      ],
      "metadata": {
        "id": "XwFa7Mh3DGCw"
      }
    },
    {
      "cell_type": "markdown",
      "source": [
        "(f) Considere que uma pesquisa estatística para estimação da média populacional (dada pelo banco de dados fornecido) teve acesso\n",
        "a 100 amostras de mulheres e 50 amostras de homens. Proponha uma estratégia para se obter um intervalo de confiança sem nenhum\n",
        "tipo de viés. Valide a sua ideia por meio de um experimento computacional."
      ],
      "metadata": {
        "id": "nL8b7ITicPca"
      }
    },
    {
      "cell_type": "markdown",
      "source": [
        "**Uma possível estratégia é utilizar a mesma quantidade de homens e mulheres para se calcular o intervalo de confiança. Como temos 100 mulheres e 50 homens, podemos sub-amostrar a quantidade de mulheres aleatoriamente em grupos de 50 indivíduos. Dessa forma poderemos executar os cálculos de intervalo de confiança como anteriormente.**"
      ],
      "metadata": {
        "id": "bTWGrVFCRVSk"
      }
    },
    {
      "cell_type": "code",
      "source": [
        "import pandas as pd\n",
        "import numpy as np\n",
        "import matplotlib.pyplot as plt\n",
        "from scipy.stats import norm\n",
        "\n",
        "n_mulheres = 100\n",
        "n_homens = 50\n",
        "nivel_confianca = 0.92\n",
        "alpha = 1 - nivel_confianca\n",
        "n=2*n_homens\n",
        "\n",
        "# Validação por meio de um experimento computacional:\n",
        "\n",
        "numero_realizacoes = 5000\n",
        "contagem_intervalos_com_media = 0\n",
        "\n",
        "amostra_mulheres = df[df['gênero'] == 'mulher'].sample(n_mulheres)\n",
        "amostra_homens = df[df['gênero'] == 'homem'].sample(n_homens)\n",
        "\n",
        "for _ in range(numero_realizacoes):\n",
        "\n",
        "    amostra_mulheres = amostra_mulheres.sample(n_homens)\n",
        "\n",
        "    N_total = pd.concat([amostra_mulheres, amostra_homens])\n",
        "\n",
        "    erro_padrao = desvio_populacional / (n**0.5)\n",
        "\n",
        "    media_N_total = N_total['salário (kR$)'].mean()\n",
        "\n",
        "    z_score = norm.ppf(1 - alpha / 2)\n",
        "\n",
        "    margem_erro_ponderado = z_score * erro_padrao\n",
        "    intervalo_inferior_ponderado = media_N_total - margem_erro_ponderado\n",
        "    intervalo_superior_ponderado = media_N_total + margem_erro_ponderado\n",
        "\n",
        "    if intervalo_inferior_ponderado <= media_salarial <= intervalo_superior_ponderado:\n",
        "        contagem_intervalos_com_media += 1\n",
        "\n",
        "proporcao_intervalos_com_media = contagem_intervalos_com_media / numero_realizacoes\n",
        "\n",
        "print(f\"Proporção de intervalos de confiança que contêm a média populacional: {proporcao_intervalos_com_media:.4f}\")\n"
      ],
      "metadata": {
        "colab": {
          "base_uri": "https://localhost:8080/"
        },
        "id": "B2qM0mnWcW1v",
        "outputId": "d98a8c13-76fd-47b7-9275-973ecf1f968a"
      },
      "execution_count": 49,
      "outputs": [
        {
          "output_type": "stream",
          "name": "stdout",
          "text": [
            "Proporção de intervalos de confiança que contêm a média populacional: 1.0000\n"
          ]
        }
      ]
    }
  ]
}