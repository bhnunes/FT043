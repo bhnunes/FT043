{
  "nbformat": 4,
  "nbformat_minor": 0,
  "metadata": {
    "colab": {
      "provenance": [],
      "authorship_tag": "ABX9TyN+uIhjmhhB5Px1en0VIP35",
      "include_colab_link": true
    },
    "kernelspec": {
      "name": "python3",
      "display_name": "Python 3"
    },
    "language_info": {
      "name": "python"
    }
  },
  "cells": [
    {
      "cell_type": "markdown",
      "metadata": {
        "id": "view-in-github",
        "colab_type": "text"
      },
      "source": [
        "<a href=\"https://colab.research.google.com/github/bhnunes/FT043/blob/main/Prova_1/Prova_1.ipynb\" target=\"_parent\"><img src=\"https://colab.research.google.com/assets/colab-badge.svg\" alt=\"Open In Colab\"/></a>"
      ]
    },
    {
      "cell_type": "markdown",
      "source": [
        "3. Considere os dados dos arquivos banco_dados_salarios.xlsx. Tais dados representam os salários mensais (em kR$) de 20000\n",
        "pessoas de uma região de uma grande cidade. Cada entrada da tabela, que corresponde a uma pessoa, também apresenta o gênero\n",
        "da pessoa. Diante disso, realize o seguinte procedimento."
      ],
      "metadata": {
        "id": "zGm9MsjZSk44"
      }
    },
    {
      "cell_type": "markdown",
      "source": [
        "(a) Calcule a média salarial desta população."
      ],
      "metadata": {
        "id": "Cj833sZoSoBt"
      }
    },
    {
      "cell_type": "code",
      "execution_count": null,
      "metadata": {
        "id": "d_VJ2jZpSWsE"
      },
      "outputs": [],
      "source": []
    }
  ]
}