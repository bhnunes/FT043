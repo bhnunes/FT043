{
  "nbformat": 4,
  "nbformat_minor": 0,
  "metadata": {
    "colab": {
      "provenance": [],
      "authorship_tag": "ABX9TyMRQv4L1/hVvUwNt+CzR/+e",
      "include_colab_link": true
    },
    "kernelspec": {
      "name": "python3",
      "display_name": "Python 3"
    },
    "language_info": {
      "name": "python"
    }
  },
  "cells": [
    {
      "cell_type": "markdown",
      "metadata": {
        "id": "view-in-github",
        "colab_type": "text"
      },
      "source": [
        "<a href=\"https://colab.research.google.com/github/bhnunes/FT043/blob/main/Atividade%201/Atividade_1_Computacional.ipynb\" target=\"_parent\"><img src=\"https://colab.research.google.com/assets/colab-badge.svg\" alt=\"Open In Colab\"/></a>"
      ]
    },
    {
      "cell_type": "markdown",
      "source": [
        "![image.png](data:image/png;base64,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)"
      ],
      "metadata": {
        "id": "VeNGN0rJBTVl"
      }
    },
    {
      "cell_type": "code",
      "execution_count": 3,
      "metadata": {
        "id": "JKyRZiYtBF6O"
      },
      "outputs": [],
      "source": [
        "filePath=r\"https://raw.githubusercontent.com/bhnunes/FT043/main/Atividade%201/dados_sensor.csv\""
      ]
    },
    {
      "cell_type": "code",
      "source": [
        "import pandas as pd\n",
        "dfMedidas=pd.read_csv(filePath)\n",
        "dfMedidas.head()"
      ],
      "metadata": {
        "colab": {
          "base_uri": "https://localhost:8080/",
          "height": 206
        },
        "id": "Er0Vj4OgWgJt",
        "outputId": "6c2ba675-fe54-408d-ae61-249f1c71c012"
      },
      "execution_count": 4,
      "outputs": [
        {
          "output_type": "execute_result",
          "data": {
            "text/plain": [
              "   Unnamed: 0 Partícula        Sensor\n",
              "0           0   ausente  nao detectou\n",
              "1           1   ausente  nao detectou\n",
              "2           2   ausente  nao detectou\n",
              "3           3   ausente  nao detectou\n",
              "4           4  presente      detectou"
            ],
            "text/html": [
              "\n",
              "  <div id=\"df-ac492089-f903-4433-93a4-429033362803\" class=\"colab-df-container\">\n",
              "    <div>\n",
              "<style scoped>\n",
              "    .dataframe tbody tr th:only-of-type {\n",
              "        vertical-align: middle;\n",
              "    }\n",
              "\n",
              "    .dataframe tbody tr th {\n",
              "        vertical-align: top;\n",
              "    }\n",
              "\n",
              "    .dataframe thead th {\n",
              "        text-align: right;\n",
              "    }\n",
              "</style>\n",
              "<table border=\"1\" class=\"dataframe\">\n",
              "  <thead>\n",
              "    <tr style=\"text-align: right;\">\n",
              "      <th></th>\n",
              "      <th>Unnamed: 0</th>\n",
              "      <th>Partícula</th>\n",
              "      <th>Sensor</th>\n",
              "    </tr>\n",
              "  </thead>\n",
              "  <tbody>\n",
              "    <tr>\n",
              "      <th>0</th>\n",
              "      <td>0</td>\n",
              "      <td>ausente</td>\n",
              "      <td>nao detectou</td>\n",
              "    </tr>\n",
              "    <tr>\n",
              "      <th>1</th>\n",
              "      <td>1</td>\n",
              "      <td>ausente</td>\n",
              "      <td>nao detectou</td>\n",
              "    </tr>\n",
              "    <tr>\n",
              "      <th>2</th>\n",
              "      <td>2</td>\n",
              "      <td>ausente</td>\n",
              "      <td>nao detectou</td>\n",
              "    </tr>\n",
              "    <tr>\n",
              "      <th>3</th>\n",
              "      <td>3</td>\n",
              "      <td>ausente</td>\n",
              "      <td>nao detectou</td>\n",
              "    </tr>\n",
              "    <tr>\n",
              "      <th>4</th>\n",
              "      <td>4</td>\n",
              "      <td>presente</td>\n",
              "      <td>detectou</td>\n",
              "    </tr>\n",
              "  </tbody>\n",
              "</table>\n",
              "</div>\n",
              "    <div class=\"colab-df-buttons\">\n",
              "\n",
              "  <div class=\"colab-df-container\">\n",
              "    <button class=\"colab-df-convert\" onclick=\"convertToInteractive('df-ac492089-f903-4433-93a4-429033362803')\"\n",
              "            title=\"Convert this dataframe to an interactive table.\"\n",
              "            style=\"display:none;\">\n",
              "\n",
              "  <svg xmlns=\"http://www.w3.org/2000/svg\" height=\"24px\" viewBox=\"0 -960 960 960\">\n",
              "    <path d=\"M120-120v-720h720v720H120Zm60-500h600v-160H180v160Zm220 220h160v-160H400v160Zm0 220h160v-160H400v160ZM180-400h160v-160H180v160Zm440 0h160v-160H620v160ZM180-180h160v-160H180v160Zm440 0h160v-160H620v160Z\"/>\n",
              "  </svg>\n",
              "    </button>\n",
              "\n",
              "  <style>\n",
              "    .colab-df-container {\n",
              "      display:flex;\n",
              "      gap: 12px;\n",
              "    }\n",
              "\n",
              "    .colab-df-convert {\n",
              "      background-color: #E8F0FE;\n",
              "      border: none;\n",
              "      border-radius: 50%;\n",
              "      cursor: pointer;\n",
              "      display: none;\n",
              "      fill: #1967D2;\n",
              "      height: 32px;\n",
              "      padding: 0 0 0 0;\n",
              "      width: 32px;\n",
              "    }\n",
              "\n",
              "    .colab-df-convert:hover {\n",
              "      background-color: #E2EBFA;\n",
              "      box-shadow: 0px 1px 2px rgba(60, 64, 67, 0.3), 0px 1px 3px 1px rgba(60, 64, 67, 0.15);\n",
              "      fill: #174EA6;\n",
              "    }\n",
              "\n",
              "    .colab-df-buttons div {\n",
              "      margin-bottom: 4px;\n",
              "    }\n",
              "\n",
              "    [theme=dark] .colab-df-convert {\n",
              "      background-color: #3B4455;\n",
              "      fill: #D2E3FC;\n",
              "    }\n",
              "\n",
              "    [theme=dark] .colab-df-convert:hover {\n",
              "      background-color: #434B5C;\n",
              "      box-shadow: 0px 1px 3px 1px rgba(0, 0, 0, 0.15);\n",
              "      filter: drop-shadow(0px 1px 2px rgba(0, 0, 0, 0.3));\n",
              "      fill: #FFFFFF;\n",
              "    }\n",
              "  </style>\n",
              "\n",
              "    <script>\n",
              "      const buttonEl =\n",
              "        document.querySelector('#df-ac492089-f903-4433-93a4-429033362803 button.colab-df-convert');\n",
              "      buttonEl.style.display =\n",
              "        google.colab.kernel.accessAllowed ? 'block' : 'none';\n",
              "\n",
              "      async function convertToInteractive(key) {\n",
              "        const element = document.querySelector('#df-ac492089-f903-4433-93a4-429033362803');\n",
              "        const dataTable =\n",
              "          await google.colab.kernel.invokeFunction('convertToInteractive',\n",
              "                                                    [key], {});\n",
              "        if (!dataTable) return;\n",
              "\n",
              "        const docLinkHtml = 'Like what you see? Visit the ' +\n",
              "          '<a target=\"_blank\" href=https://colab.research.google.com/notebooks/data_table.ipynb>data table notebook</a>'\n",
              "          + ' to learn more about interactive tables.';\n",
              "        element.innerHTML = '';\n",
              "        dataTable['output_type'] = 'display_data';\n",
              "        await google.colab.output.renderOutput(dataTable, element);\n",
              "        const docLink = document.createElement('div');\n",
              "        docLink.innerHTML = docLinkHtml;\n",
              "        element.appendChild(docLink);\n",
              "      }\n",
              "    </script>\n",
              "  </div>\n",
              "\n",
              "\n",
              "<div id=\"df-51ee3525-915a-45cd-861d-6d3aa966e7ca\">\n",
              "  <button class=\"colab-df-quickchart\" onclick=\"quickchart('df-51ee3525-915a-45cd-861d-6d3aa966e7ca')\"\n",
              "            title=\"Suggest charts\"\n",
              "            style=\"display:none;\">\n",
              "\n",
              "<svg xmlns=\"http://www.w3.org/2000/svg\" height=\"24px\"viewBox=\"0 0 24 24\"\n",
              "     width=\"24px\">\n",
              "    <g>\n",
              "        <path d=\"M19 3H5c-1.1 0-2 .9-2 2v14c0 1.1.9 2 2 2h14c1.1 0 2-.9 2-2V5c0-1.1-.9-2-2-2zM9 17H7v-7h2v7zm4 0h-2V7h2v10zm4 0h-2v-4h2v4z\"/>\n",
              "    </g>\n",
              "</svg>\n",
              "  </button>\n",
              "\n",
              "<style>\n",
              "  .colab-df-quickchart {\n",
              "      --bg-color: #E8F0FE;\n",
              "      --fill-color: #1967D2;\n",
              "      --hover-bg-color: #E2EBFA;\n",
              "      --hover-fill-color: #174EA6;\n",
              "      --disabled-fill-color: #AAA;\n",
              "      --disabled-bg-color: #DDD;\n",
              "  }\n",
              "\n",
              "  [theme=dark] .colab-df-quickchart {\n",
              "      --bg-color: #3B4455;\n",
              "      --fill-color: #D2E3FC;\n",
              "      --hover-bg-color: #434B5C;\n",
              "      --hover-fill-color: #FFFFFF;\n",
              "      --disabled-bg-color: #3B4455;\n",
              "      --disabled-fill-color: #666;\n",
              "  }\n",
              "\n",
              "  .colab-df-quickchart {\n",
              "    background-color: var(--bg-color);\n",
              "    border: none;\n",
              "    border-radius: 50%;\n",
              "    cursor: pointer;\n",
              "    display: none;\n",
              "    fill: var(--fill-color);\n",
              "    height: 32px;\n",
              "    padding: 0;\n",
              "    width: 32px;\n",
              "  }\n",
              "\n",
              "  .colab-df-quickchart:hover {\n",
              "    background-color: var(--hover-bg-color);\n",
              "    box-shadow: 0 1px 2px rgba(60, 64, 67, 0.3), 0 1px 3px 1px rgba(60, 64, 67, 0.15);\n",
              "    fill: var(--button-hover-fill-color);\n",
              "  }\n",
              "\n",
              "  .colab-df-quickchart-complete:disabled,\n",
              "  .colab-df-quickchart-complete:disabled:hover {\n",
              "    background-color: var(--disabled-bg-color);\n",
              "    fill: var(--disabled-fill-color);\n",
              "    box-shadow: none;\n",
              "  }\n",
              "\n",
              "  .colab-df-spinner {\n",
              "    border: 2px solid var(--fill-color);\n",
              "    border-color: transparent;\n",
              "    border-bottom-color: var(--fill-color);\n",
              "    animation:\n",
              "      spin 1s steps(1) infinite;\n",
              "  }\n",
              "\n",
              "  @keyframes spin {\n",
              "    0% {\n",
              "      border-color: transparent;\n",
              "      border-bottom-color: var(--fill-color);\n",
              "      border-left-color: var(--fill-color);\n",
              "    }\n",
              "    20% {\n",
              "      border-color: transparent;\n",
              "      border-left-color: var(--fill-color);\n",
              "      border-top-color: var(--fill-color);\n",
              "    }\n",
              "    30% {\n",
              "      border-color: transparent;\n",
              "      border-left-color: var(--fill-color);\n",
              "      border-top-color: var(--fill-color);\n",
              "      border-right-color: var(--fill-color);\n",
              "    }\n",
              "    40% {\n",
              "      border-color: transparent;\n",
              "      border-right-color: var(--fill-color);\n",
              "      border-top-color: var(--fill-color);\n",
              "    }\n",
              "    60% {\n",
              "      border-color: transparent;\n",
              "      border-right-color: var(--fill-color);\n",
              "    }\n",
              "    80% {\n",
              "      border-color: transparent;\n",
              "      border-right-color: var(--fill-color);\n",
              "      border-bottom-color: var(--fill-color);\n",
              "    }\n",
              "    90% {\n",
              "      border-color: transparent;\n",
              "      border-bottom-color: var(--fill-color);\n",
              "    }\n",
              "  }\n",
              "</style>\n",
              "\n",
              "  <script>\n",
              "    async function quickchart(key) {\n",
              "      const quickchartButtonEl =\n",
              "        document.querySelector('#' + key + ' button');\n",
              "      quickchartButtonEl.disabled = true;  // To prevent multiple clicks.\n",
              "      quickchartButtonEl.classList.add('colab-df-spinner');\n",
              "      try {\n",
              "        const charts = await google.colab.kernel.invokeFunction(\n",
              "            'suggestCharts', [key], {});\n",
              "      } catch (error) {\n",
              "        console.error('Error during call to suggestCharts:', error);\n",
              "      }\n",
              "      quickchartButtonEl.classList.remove('colab-df-spinner');\n",
              "      quickchartButtonEl.classList.add('colab-df-quickchart-complete');\n",
              "    }\n",
              "    (() => {\n",
              "      let quickchartButtonEl =\n",
              "        document.querySelector('#df-51ee3525-915a-45cd-861d-6d3aa966e7ca button');\n",
              "      quickchartButtonEl.style.display =\n",
              "        google.colab.kernel.accessAllowed ? 'block' : 'none';\n",
              "    })();\n",
              "  </script>\n",
              "</div>\n",
              "\n",
              "    </div>\n",
              "  </div>\n"
            ],
            "application/vnd.google.colaboratory.intrinsic+json": {
              "type": "dataframe",
              "variable_name": "dfMedidas",
              "summary": "{\n  \"name\": \"dfMedidas\",\n  \"rows\": 10000,\n  \"fields\": [\n    {\n      \"column\": \"Unnamed: 0\",\n      \"properties\": {\n        \"dtype\": \"number\",\n        \"std\": 2886,\n        \"min\": 0,\n        \"max\": 9999,\n        \"num_unique_values\": 10000,\n        \"samples\": [\n          6252,\n          4684,\n          1731\n        ],\n        \"semantic_type\": \"\",\n        \"description\": \"\"\n      }\n    },\n    {\n      \"column\": \"Part\\u00edcula\",\n      \"properties\": {\n        \"dtype\": \"category\",\n        \"num_unique_values\": 2,\n        \"samples\": [\n          \"presente\",\n          \"ausente\"\n        ],\n        \"semantic_type\": \"\",\n        \"description\": \"\"\n      }\n    },\n    {\n      \"column\": \"Sensor\",\n      \"properties\": {\n        \"dtype\": \"category\",\n        \"num_unique_values\": 2,\n        \"samples\": [\n          \"detectou\",\n          \"nao detectou\"\n        ],\n        \"semantic_type\": \"\",\n        \"description\": \"\"\n      }\n    }\n  ]\n}"
            }
          },
          "metadata": {},
          "execution_count": 4
        }
      ]
    },
    {
      "cell_type": "markdown",
      "source": [
        "**(a) Estime a probabilidade de detecção da partícula considerando todas as amostras do experimento.**"
      ],
      "metadata": {
        "id": "aQiO09GRBnf3"
      }
    },
    {
      "cell_type": "markdown",
      "source": [
        "**(b) Verifique se os eventos “sensor detectou partícula” e “partícula estava presente” são estatisticamente independentes. Justifique sua resposta.**"
      ],
      "metadata": {
        "id": "LOxx-punBraI"
      }
    },
    {
      "cell_type": "markdown",
      "source": [
        "**(c) Diante da resposta do item (a), comente sobre a eficácia do sensor detectar a partícula.**"
      ],
      "metadata": {
        "id": "zR5HomcrCKH8"
      }
    },
    {
      "cell_type": "markdown",
      "source": [
        "**(d) Estime a taxa de falso positivo no processo de detecção da partícula.**"
      ],
      "metadata": {
        "id": "GpI1GEa8CRw5"
      }
    },
    {
      "cell_type": "markdown",
      "source": [
        "**(e) Estime a taxa de falso negativo no processo de detecção da partícula.**"
      ],
      "metadata": {
        "id": "-9UJdY7bCXE6"
      }
    },
    {
      "cell_type": "markdown",
      "source": [
        "**(f) Estime a taxa de verdadeiro positivo no processo de detecção da partícula.**"
      ],
      "metadata": {
        "id": "Fty3MahwCedb"
      }
    },
    {
      "cell_type": "markdown",
      "source": [
        "**(g) Estime a taxa de verdadeiro negativo no processo de detecção da partícula.**"
      ],
      "metadata": {
        "id": "frtE5wUyCnvw"
      }
    }
  ]
}